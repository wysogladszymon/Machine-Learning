{
 "cells": [
  {
   "cell_type": "code",
   "execution_count": 1,
   "metadata": {},
   "outputs": [],
   "source": [
    "import numpy as np\n",
    "import matplotlib.pyplot as plt\n",
    "import csv"
   ]
  },
  {
   "cell_type": "markdown",
   "metadata": {},
   "source": [
    "## 0. Wstęp teoretyczny\n",
    "\n",
    "Funkcja kosztu dla pojedynczego przypadku będzie określona jako: \n",
    "$$\\mathcal{L}(a^{(i)}, y^{(i)}) =  - y^{(i)}  \\ln(a^{(i)}) - (1-y^{(i)} )  \\ln(1-a^{(i)})$$\n",
    "\n",
    "Natomiast całkowity koszt, to będzie średnia arytmetyczna pojedynczych kosztów:\n",
    "$$ J = \\frac{1}{m} \\sum_{i=1}^m \\mathcal{L}(a^{(i)}, y^{(i)})$$\n",
    "\n",
    "Aby zminimalizować funkcję kosztu, będziemy korzystali z metody spadku gradientu, potrzebne do tego nam będą pochodne kierunkowe. Skorzystamy z ```propagacji wstecz```.\n",
    "\n",
    "Wiedząc, że dla pojedynczego przypadku:\n",
    "\n",
    "$$z = \\theta^Tx^{(i)} + b$$\n",
    "$$a = \\hat{y} = \\sigma(z) = \\frac{1}{1 + e^{-z}}$$\n",
    "$$\\mathcal{L}(a^{(i)}, y^{(i)}) =  - y^{(i)}  \\ln(a^{(i)}) - (1-y^{(i)} )  \\ln(1-a^{(i)})$$\n",
    "\n",
    "Możemy obliczyć pochodne:\n",
    "$$ \\frac{\\partial z}{\\partial \\theta} = x \\tag{1}$$\n",
    "$$ \\frac{\\partial z}{\\partial b} = 1 \\tag{2}$$\n",
    "$$ \\frac{\\partial a}{\\partial z} = \\frac{e^{-z}}{(1 + e^{-z})^2}\\tag{3} $$\n",
    "$$ \\frac{\\partial \\mathcal{L}}{\\partial a} = \\frac{y}{a} + \\frac{1-y}{1-a} = \\frac{a-y}{a(1-a)}\\tag{4} $$\n",
    "\n",
    "Przekształcając:\n",
    "$$a = \\frac{1}{1 + e^{-z}} \\implies e^{-z} = \\frac{1 - a}{a} $$\n",
    "Zatem pochodna $(3)$ będzie dana wzorem:\n",
    "$$ \\frac{\\partial a}{\\partial z} = a(1-a)$$ \n",
    "\n",
    "Dzięki tym obliczeniom uzyskamy pochodne kierunkowe $\\frac{\\partial \\mathcal{L}}{\\partial \\theta}$ oraz $\\frac{\\partial \\mathcal{L}}{\\partial b}$, które obliczymy za pomocą propagacji wstecz:\n",
    "$$\\frac{\\partial \\mathcal{L}}{\\partial \\theta} = \\frac{\\partial \\mathcal{L}}{\\partial a} \\cdot \\frac{\\partial a}{\\partial z} \\cdot \\frac{\\partial z}{\\partial \\theta} = x(a-y) $$\n",
    "$$\\frac{\\partial \\mathcal{L}}{\\partial b} = \\frac{\\partial \\mathcal{L}}{\\partial a} \\cdot \\frac{\\partial a}{\\partial z} \\cdot \\frac{\\partial z}{\\partial b} = a - y $$\n",
    "\n",
    "Zatem, dla wszystkich przypadków otrzymamy:\n",
    "$$\\frac{\\partial J}{\\partial \\theta} = \\frac{1}{m}X(A - Y)^T $$\n",
    "$$\\frac{\\partial J}{\\partial b} = \\frac{1}{m} \\sum_{i=1}^{m} (a_i - y_i) $$"
   ]
  },
  {
   "cell_type": "markdown",
   "metadata": {},
   "source": [
    "Zatem w przypadku dodania do macierzy ```X``` wiersza jedynek, otrzymamy ogólny wzór:\n",
    "$$\\frac{\\partial J}{\\partial \\theta} = \\frac{1}{m}X(A - Y)^T $$"
   ]
  },
  {
   "cell_type": "markdown",
   "metadata": {},
   "source": [
    "## Zadanie 1\n"
   ]
  },
  {
   "cell_type": "markdown",
   "metadata": {},
   "source": [
    "Funkcja sigmoidalna\n",
    "$$y = \\frac{1}{1 + e^{-x}}$$\n",
    "\n",
    "Funkcja odwrotna do sigmoidalnej\n",
    "\n",
    "$$x = \\ln{(\\frac{y}{1-y})}$$"
   ]
  },
  {
   "cell_type": "code",
   "execution_count": 2,
   "metadata": {},
   "outputs": [],
   "source": [
    "def sigmoid_reverse(y):\n",
    "  return np.log(y/(1-y))"
   ]
  },
  {
   "cell_type": "code",
   "execution_count": 3,
   "metadata": {},
   "outputs": [],
   "source": [
    "def sigmoid(z):\n",
    "  return 1.0 / (1.0 + np.exp(-z))"
   ]
  },
  {
   "cell_type": "code",
   "execution_count": 4,
   "metadata": {},
   "outputs": [],
   "source": [
    "def h_fun(X, theta):\n",
    "  z = theta.T @ X\n",
    "  return sigmoid(z)"
   ]
  },
  {
   "cell_type": "code",
   "execution_count": 5,
   "metadata": {},
   "outputs": [],
   "source": [
    "def calculate_cost(X, y, theta):\n",
    "  h = h_fun(X, theta)\n",
    "  y_1 = -y*np.log(h)\n",
    "  y_0 = -(1-y)*np.log(1-h)\n",
    "  return (y_1 + y_0).sum() / X.shape[1]"
   ]
  },
  {
   "cell_type": "code",
   "execution_count": 6,
   "metadata": {},
   "outputs": [],
   "source": [
    "def logistic_regression(X, y, eps = 1e-7, alpha = 1e-3, print_cost = False):\n",
    "  n, m = X.shape\n",
    "  theta = np.zeros((n, 1))\n",
    "  cost = calculate_cost(X, y, theta)\n",
    "  i = 0\n",
    "  while True:\n",
    "    y_pred = h_fun(X, theta)\n",
    "    assert y_pred.shape == y.shape\n",
    "    h_y_diff = y_pred - y\n",
    "    gradient = X  @ h_y_diff.T # (n,m) @ (m,1) = (n,1)\n",
    "    theta = theta - alpha * gradient / m\n",
    "    cost_prev, cost = cost, calculate_cost(X, y, theta)\n",
    "    if print_cost and i % 1000 == 0:\n",
    "      print(f'{i / 1000 + 1:.0f}. cost={cost}, cost_dif={np.abs(cost_prev - cost)}')\n",
    "    i += 1\n",
    "    if np.abs(cost_prev - cost) < eps:\n",
    "      break\n",
    "\n",
    "  return theta"
   ]
  },
  {
   "cell_type": "code",
   "execution_count": 7,
   "metadata": {},
   "outputs": [],
   "source": [
    "X1 = np.array([[1.0, 1.0, 1.0, 1.0, 1.0, 1.0, 1.0, 1.0],\n",
    "              [0.3, 0.8, 1.7, 2.4, 2.9, 3.1, 4.5, 6.1]])\n",
    "y1 = np.array([[0.0, 0.0, 0.0, 0.0, 1.0, 1.0, 1.0, 1.0]])"
   ]
  },
  {
   "cell_type": "code",
   "execution_count": 8,
   "metadata": {},
   "outputs": [],
   "source": [
    "theta = logistic_regression(X1, y1, 1e-7, 1e-3)"
   ]
  },
  {
   "cell_type": "markdown",
   "metadata": {},
   "source": [
    "Przygotowanie danych do wizualizacji"
   ]
  },
  {
   "cell_type": "code",
   "execution_count": 9,
   "metadata": {},
   "outputs": [
    {
     "name": "stdout",
     "output_type": "stream",
     "text": [
      "[[-9.87768605]\n",
      " [ 3.86694671]]\n"
     ]
    }
   ],
   "source": [
    "print(theta)"
   ]
  },
  {
   "cell_type": "code",
   "execution_count": 10,
   "metadata": {},
   "outputs": [],
   "source": [
    "x_pred1 = np.linspace(-6, 6, 1000).reshape(1, -1)\n",
    "x_pred1 = np.vstack([np.ones(x_pred1.shape), x_pred1])\n",
    "y_pred1 = h_fun(x_pred1, theta)\n",
    "\n",
    "true_indices = np.where(y1 == 1)[1]\n",
    "false_indices = np.where(y1 == 0)[1]"
   ]
  },
  {
   "cell_type": "markdown",
   "metadata": {},
   "source": [
    "Określenie granicy klasyfikacji"
   ]
  },
  {
   "cell_type": "code",
   "execution_count": 11,
   "metadata": {},
   "outputs": [],
   "source": [
    "def get_index(Y, value):\n",
    "  return np.where(Y >= value)[1][0]"
   ]
  },
  {
   "cell_type": "code",
   "execution_count": 12,
   "metadata": {},
   "outputs": [],
   "source": [
    "index = get_index(y_pred1, 0.5)\n",
    "x_pred1 = x_pred1[1, :].flatten()"
   ]
  },
  {
   "cell_type": "code",
   "execution_count": 13,
   "metadata": {},
   "outputs": [
    {
     "data": {
      "image/png": "[encoded data removed]",
      "text/plain": [
       "<Figure size 640x480 with 1 Axes>"
      ]
     },
     "metadata": {},
     "output_type": "display_data"
    }
   ],
   "source": [
    "plt.plot([x_pred1[index], x_pred1[index]], [0, 1], label='decision boundary', color=\"purple\", linestyle=\"--\")\n",
    "true_examplesX = X1[1, true_indices]\n",
    "false_examplesX = X1[1, false_indices]\n",
    "plt.plot(x_pred1, y_pred1.flatten(), label='h(x)', color='green') \n",
    "plt.scatter(true_examplesX, np.ones(true_examplesX.shape), marker='x',label='belongs to a class')\n",
    "plt.scatter(false_examplesX, np.zeros(false_examplesX.shape), label='does not belong to a class')\n",
    "plt.legend()\n",
    "plt.show()"
   ]
  },
  {
   "cell_type": "markdown",
   "metadata": {},
   "source": [
    "## Zadanie 2"
   ]
  },
  {
   "cell_type": "code",
   "execution_count": 14,
   "metadata": {},
   "outputs": [
    {
     "name": "stdout",
     "output_type": "stream",
     "text": [
      "X2.shape=(3, 100)\n",
      "y2.shape=(1, 100)\n"
     ]
    }
   ],
   "source": [
    "with open(\"./admission.txt\") as f:\n",
    "  csv_reader = csv.reader(f)\n",
    "  examples = []\n",
    "  for row in csv_reader:\n",
    "      examples.append([float(cell) for cell in row])\n",
    "  data = np.array(examples)\n",
    "  y2 = data[:, 2:3].T\n",
    "  x = data[:, :2].T\n",
    "  X2 = np.concatenate([np.ones([1, x.shape[1]]), x])\n",
    " \n",
    "print(f'{X2.shape=}')\n",
    "print(f'{y2.shape=}')"
   ]
  },
  {
   "cell_type": "code",
   "execution_count": 15,
   "metadata": {},
   "outputs": [],
   "source": [
    "true_indices2 = np.where(y2 == 1)[1]\n",
    "false_indices2 = np.where(y2 == 0)[1]"
   ]
  },
  {
   "cell_type": "code",
   "execution_count": 16,
   "metadata": {},
   "outputs": [],
   "source": [
    "x_class_1 = X2[:, true_indices2]\n",
    "x_class_0 = X2[:, false_indices2]"
   ]
  },
  {
   "cell_type": "code",
   "execution_count": 17,
   "metadata": {},
   "outputs": [],
   "source": [
    "def plot_data(X, y):\n",
    "  fig, ax = plt.subplots()\n",
    "  true_indices = np.where(y == 1)[1]\n",
    "  false_indices = np.where(y == 0)[1]\n",
    "  x_class_1 = X[:, true_indices]\n",
    "  x_class_0 = X[:, false_indices]\n",
    "  ax.scatter(x_class_1[1, :], x_class_1[2, :], label='belongs to a class')\n",
    "  ax.scatter(x_class_0[1, :], x_class_0[2, :], label='does not belong to a class')\n",
    "  ax.legend()\n",
    "  return fig"
   ]
  },
  {
   "cell_type": "code",
   "execution_count": 18,
   "metadata": {},
   "outputs": [
    {
     "data": {
      "image/png": "[encoded data removed]",
      "text/plain": [
       "<Figure size 640x480 with 1 Axes>"
      ]
     },
     "metadata": {},
     "output_type": "display_data"
    }
   ],
   "source": [
    "fig = plot_data(X2, y2)\n",
    "plt.show()"
   ]
  },
  {
   "cell_type": "code",
   "execution_count": 19,
   "metadata": {},
   "outputs": [],
   "source": [
    "theta2 = logistic_regression(X2, y2, 1e-6, 1e-3)"
   ]
  },
  {
   "cell_type": "code",
   "execution_count": 20,
   "metadata": {},
   "outputs": [
    {
     "name": "stdout",
     "output_type": "stream",
     "text": [
      "[[-5.13364014]\n",
      " [ 0.04771429]\n",
      " [ 0.04072397]]\n"
     ]
    }
   ],
   "source": [
    "print(theta2)"
   ]
  },
  {
   "cell_type": "code",
   "execution_count": 21,
   "metadata": {},
   "outputs": [
    {
     "data": {
      "image/png": "[encoded data removed]",
      "text/plain": [
       "<Figure size 640x480 with 1 Axes>"
      ]
     },
     "metadata": {},
     "output_type": "display_data"
    }
   ],
   "source": [
    "#dane\n",
    "fig = plot_data(X2, y2)\n",
    "x1_db = np.arange(X2[1, :].min(), X2[1, :].max(), 1)\n",
    "x2_db = -theta2[0, 0]/theta2[2, 0] - theta2[1, 0]/theta2[2, 0]*x1_db\n",
    "plt.plot(x1_db, x2_db, '-m')\n",
    "plt.show()\n"
   ]
  },
  {
   "cell_type": "markdown",
   "metadata": {},
   "source": [
    "## Zadanie 3"
   ]
  },
  {
   "cell_type": "markdown",
   "metadata": {},
   "source": [
    "Import danych"
   ]
  },
  {
   "cell_type": "code",
   "execution_count": 22,
   "metadata": {},
   "outputs": [],
   "source": [
    "with open(\"./admission.txt\") as f:\n",
    "  csv_reader = csv.reader(f)\n",
    "  examples = []\n",
    "  for row in csv_reader:\n",
    "      examples.append([float(cell) for cell in row])\n",
    "  data = np.array(examples)\n",
    "  y3 = data[:, 2:3].T\n",
    "  x1 = data[:, :1].T\n",
    "  x2 = data[:, 1:2].T\n",
    "  X3 = np.concatenate([np.ones([1, x1.shape[1]]), x1, x2, x1**2])"
   ]
  },
  {
   "cell_type": "code",
   "execution_count": 23,
   "metadata": {},
   "outputs": [
    {
     "name": "stdout",
     "output_type": "stream",
     "text": [
      "X3.shape=(4, 100)\n",
      "y3.shape=(1, 100)\n"
     ]
    }
   ],
   "source": [
    "print(f'{X3.shape=}')\n",
    "print(f'{y3.shape=}')"
   ]
  },
  {
   "cell_type": "code",
   "execution_count": 24,
   "metadata": {},
   "outputs": [],
   "source": [
    "X3_max = X3.max(axis=1)\n",
    "X3_max.shape = [X3_max.shape[0], 1]\n",
    "X3_min = X3.min(axis=1)\n",
    "X3_min[0] = 0\n",
    "X3_min.shape = [X3_min.shape[0], 1]\n",
    "X3_scaled = (X3 - X3_min) / (X3_max - X3_min)"
   ]
  },
  {
   "cell_type": "code",
   "execution_count": 25,
   "metadata": {},
   "outputs": [
    {
     "name": "stdout",
     "output_type": "stream",
     "text": [
      "[[-2.78413631]\n",
      " [ 2.14332416]\n",
      " [ 2.91832306]\n",
      " [ 2.04671856]]\n"
     ]
    }
   ],
   "source": [
    "theta3 = logistic_regression(X3_scaled, y3, 1e-7, 1e-4)\n",
    "print(theta3)"
   ]
  },
  {
   "cell_type": "code",
   "execution_count": 26,
   "metadata": {},
   "outputs": [
    {
     "data": {
      "image/png": "[encoded data removed]",
      "text/plain": [
       "<Figure size 640x480 with 1 Axes>"
      ]
     },
     "metadata": {},
     "output_type": "display_data"
    }
   ],
   "source": [
    "fig = plot_data(X2, y2)\n",
    "x1 = np.linspace(X3[1, :].min(), X3[1, :].max(), 1000)\n",
    "x1_squared = x1**2\n",
    "x1_scaled = (x1 - X3_min[1, 0]) / (X3_max[1, 0] - X3_min[1, 0])\n",
    "x1_squared_scaled = (x1_squared - X3_min[3, 0]) / (X3_max[3, 0] - X3_min[3, 0])\n",
    "\n",
    "x2_scaled = -(theta3[0, 0] + theta3[1, 0]*x1_scaled + theta3[3, 0]*x1_squared_scaled) / theta3[2, 0]\n",
    "x2 = x2_scaled * (X3_max[2, 0] - X3_min[2, 0]) + X3_min[2, 0]\n",
    "\n",
    "plt.plot(x1, x2, '-m')\n",
    "plt.show()\n"
   ]
  },
  {
   "cell_type": "markdown",
   "metadata": {},
   "source": [
    "## Zadanie 4"
   ]
  },
  {
   "cell_type": "code",
   "execution_count": 27,
   "metadata": {},
   "outputs": [],
   "source": [
    "from sklearn import datasets\n",
    "from sklearn.model_selection import train_test_split\n",
    "\n",
    "data = datasets.load_digits()\n",
    "y4 = data['target']\n",
    "x4 = data['data']"
   ]
  },
  {
   "cell_type": "code",
   "execution_count": 28,
   "metadata": {},
   "outputs": [
    {
     "name": "stdout",
     "output_type": "stream",
     "text": [
      "x4.shape=(1797, 64)\n",
      "y4.shape=(1797,)\n"
     ]
    }
   ],
   "source": [
    "print(f'{x4.shape=}')\n",
    "print(f'{y4.shape=}')"
   ]
  },
  {
   "cell_type": "code",
   "execution_count": 29,
   "metadata": {},
   "outputs": [
    {
     "data": {
      "image/png": "[encoded data removed]",
      "text/plain": [
       "<Figure size 1000x400 with 10 Axes>"
      ]
     },
     "metadata": {},
     "output_type": "display_data"
    }
   ],
   "source": [
    "random_indices = np.random.choice(np.arange(0, x4.shape[0]), size=10, replace=False)\n",
    "fig, axs = plt.subplots(2, 5, figsize=(10, 4))\n",
    "plt.suptitle('Random examples form dataset')\n",
    "for i, ax in enumerate(axs.flat):\n",
    "    ex = x4[random_indices[i], :]\n",
    "    ex = ex.reshape(8, 8)\n",
    "    ax.imshow(ex, cmap='gray')\n",
    "    ax.axis('off')\n",
    "plt.show()"
   ]
  },
  {
   "cell_type": "code",
   "execution_count": 30,
   "metadata": {},
   "outputs": [
    {
     "name": "stdout",
     "output_type": "stream",
     "text": [
      "[[ 0.  0.  5. ...  0.  0.  0.]\n",
      " [ 0.  0.  0. ... 10.  0.  0.]\n",
      " [ 0.  0.  0. ... 16.  9.  0.]\n",
      " ...\n",
      " [ 0.  0.  1. ...  6.  0.  0.]\n",
      " [ 0.  0.  2. ... 12.  0.  0.]\n",
      " [ 0.  0. 10. ... 12.  1.  0.]]\n"
     ]
    }
   ],
   "source": [
    "x4_train, x4_test, y4_train, y4_test = train_test_split(x4, y4, random_state=1234)\n",
    "print(x4)"
   ]
  },
  {
   "cell_type": "code",
   "execution_count": 31,
   "metadata": {},
   "outputs": [
    {
     "name": "stdout",
     "output_type": "stream",
     "text": [
      "x4_train.shape=(1347, 64)\n",
      "y4_train.shape=(1347,)\n"
     ]
    }
   ],
   "source": [
    "thetas = []  # kontener na wagi kolejnych modeli\n",
    "eps = 1e-5\n",
    "no_of_cls = 10\n",
    "alpha = 1e-1\n",
    "max_brightness = 16\n",
    "\n",
    "[m, n] = x4_train.shape\n",
    "\n",
    "x4_scaled = x4_train.T / max_brightness\n",
    "x4_scaled = np.vstack([np.ones([1, m]), x4_scaled])\n",
    "print(f'{x4_train.shape=}')\n",
    "print(f'{y4_train.shape=}')\n",
    "for cls_id in range(no_of_cls):\n",
    "  # print(f'Optymalizacja dla klasy {cls_id}')\n",
    "  y_cls = (y4_train == cls_id).astype(np.int8)\n",
    "  y_cls.shape = [1, m]\n",
    "  thetai = logistic_regression(x4_scaled, y_cls, eps, alpha)\n",
    "  thetas.append(thetai)"
   ]
  },
  {
   "cell_type": "code",
   "execution_count": 32,
   "metadata": {},
   "outputs": [],
   "source": [
    "def predict(x, thetas):\n",
    "  # x ma rozmiar (n, m) \n",
    "  [n, m] = x.shape\n",
    "  y_preds = np.array([])\n",
    "  x_scaled = x / max_brightness\n",
    "  x_scaled = np.vstack([np.ones([1, m]), x_scaled]) # dodanie jedynek \n",
    "  for theta in thetas:\n",
    "    y_pred = h_fun(x_scaled, theta)\n",
    "    y_preds = np.vstack([y_preds, y_pred]) if y_preds.size else y_pred\n",
    "  return np.argmax(y_preds, axis=0)\n"
   ]
  },
  {
   "cell_type": "code",
   "execution_count": 33,
   "metadata": {},
   "outputs": [],
   "source": [
    "y_pred = predict(x4_test.T, thetas)"
   ]
  },
  {
   "cell_type": "code",
   "execution_count": 34,
   "metadata": {},
   "outputs": [],
   "source": [
    "def confusion_matrix(y_true, y_pred):\n",
    "  n = len(np.unique(y_true))\n",
    "  cm = np.zeros((n, n))\n",
    "  for i in range(n):\n",
    "    for j in range(n):\n",
    "      cm[i, j] = np.sum((y_true == i) & (y_pred == j))\n",
    "  return cm"
   ]
  },
  {
   "cell_type": "code",
   "execution_count": 35,
   "metadata": {},
   "outputs": [
    {
     "name": "stdout",
     "output_type": "stream",
     "text": [
      "[[37.  0.  0.  0.  0.  0.  0.  0.  0.  0.]\n",
      " [ 0. 44.  0.  0.  0.  0.  1.  0.  0.  2.]\n",
      " [ 0.  1. 47.  0.  0.  0.  0.  1.  0.  0.]\n",
      " [ 0.  0.  0. 43.  0.  1.  0.  0.  0.  0.]\n",
      " [ 1.  0.  0.  0. 48.  0.  0.  2.  1.  0.]\n",
      " [ 0.  0.  0.  0.  1. 46.  1.  0.  0.  1.]\n",
      " [ 0.  1.  0.  0.  0.  0. 43.  0.  1.  0.]\n",
      " [ 0.  0.  0.  0.  0.  0.  0. 40.  0.  0.]\n",
      " [ 0.  3.  1.  0.  0.  0.  1.  0. 37.  1.]\n",
      " [ 0.  0.  0.  0.  0.  0.  0.  2.  3. 39.]]\n"
     ]
    }
   ],
   "source": [
    "cm = confusion_matrix(y4_test, y_pred)\n",
    "print(cm)"
   ]
  },
  {
   "cell_type": "code",
   "execution_count": 36,
   "metadata": {},
   "outputs": [],
   "source": [
    "def raport(conf_matrix):\n",
    "  n = conf_matrix.shape[0]\n",
    "  Tp = np.zeros((n,1))\n",
    "  # precision = TP / (TP + FP)\n",
    "  # recall = TP / (TP + FN)\n",
    "  # F1 = 2 * (precision * recall) / (precision + recall)\n",
    "  print(\" cls |  se  |  pp  |  f1 \")\n",
    "  print(\" --- | ---- | ---- | ----\")\n",
    "  for i in range(n):\n",
    "    precision = conf_matrix[i, i] / np.sum(conf_matrix[:, i])\n",
    "    recall = conf_matrix[i, i] / np.sum(conf_matrix[i, :])\n",
    "    f1 = 2 * (precision * recall) / (precision + recall)\n",
    "    print(f\"  {i}. | {recall:.2f} | {precision:.2f} | {f1:.2f} \")\n",
    "  return "
   ]
  },
  {
   "cell_type": "code",
   "execution_count": 37,
   "metadata": {},
   "outputs": [
    {
     "name": "stdout",
     "output_type": "stream",
     "text": [
      " cls |  se  |  pp  |  f1 \n",
      " --- | ---- | ---- | ----\n",
      "  0. | 1.00 | 0.97 | 0.99 \n",
      "  1. | 0.94 | 0.90 | 0.92 \n",
      "  2. | 0.96 | 0.98 | 0.97 \n",
      "  3. | 0.98 | 1.00 | 0.99 \n",
      "  4. | 0.92 | 0.98 | 0.95 \n",
      "  5. | 0.94 | 0.98 | 0.96 \n",
      "  6. | 0.96 | 0.93 | 0.95 \n",
      "  7. | 1.00 | 0.89 | 0.94 \n",
      "  8. | 0.86 | 0.88 | 0.87 \n",
      "  9. | 0.89 | 0.91 | 0.90 \n"
     ]
    }
   ],
   "source": [
    "raport(cm)"
   ]
  }
 ],
 "metadata": {
  "kernelspec": {
   "display_name": "ml",
   "language": "python",
   "name": "python3"
  },
  "language_info": {
   "codemirror_mode": {
    "name": "ipython",
    "version": 3
   },
   "file_extension": ".py",
   "mimetype": "text/x-python",
   "name": "python",
   "nbconvert_exporter": "python",
   "pygments_lexer": "ipython3",
   "version": "3.10.16"
  }
 },
 "nbformat": 4,
 "nbformat_minor": 2
}
